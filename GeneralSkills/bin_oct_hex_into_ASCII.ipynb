{
 "cells": [
  {
   "cell_type": "code",
   "execution_count": 2,
   "metadata": {},
   "outputs": [],
   "source": [
    "import base64"
   ]
  },
  {
   "cell_type": "markdown",
   "metadata": {},
   "source": [
    "# binary to ASCII"
   ]
  },
  {
   "cell_type": "code",
   "execution_count": 10,
   "metadata": {},
   "outputs": [
    {
     "name": "stdout",
     "output_type": "stream",
     "text": [
      "7\n",
      "7\n",
      "6\n",
      "6\n",
      "6\n",
      "7\n",
      "6\n",
      "6\n",
      "6\n",
      "dec_string 73756261361726961465\n",
      "hex_string 7375626D6172696E65\n"
     ]
    }
   ],
   "source": [
    "binary = '01110011 01110101 01100010 01101101 01100001 01110010 01101001 01101110 01100101'\n",
    "binary_list = binary.split(' ')\n",
    "hex_string = ''\n",
    "dec_string = ''\n",
    "for bite in binary_list:\n",
    "    dec0 = int(bite[0:4], 2) \n",
    "    dec1 = int(bite[4:8], 2)\n",
    "    dec_string += str(dec0)\n",
    "    dec_string += str(dec1)\n",
    "    hex0 = format(dec0, 'x')\n",
    "    hex1 = format(dec1, 'x')\n",
    "    print(hex0)\n",
    "    hex_string += hex0.upper()\n",
    "    hex_string += hex1.upper()\n",
    "print('dec_string', dec_string)\n",
    "print('hex_string', hex_string)"
   ]
  },
  {
   "cell_type": "code",
   "execution_count": 12,
   "metadata": {},
   "outputs": [
    {
     "name": "stdout",
     "output_type": "stream",
     "text": [
      "b'submarine'\n"
     ]
    }
   ],
   "source": [
    "encoded_string = hex_string\n",
    "decoded_string = base64.b16decode(encoded_string)\n",
    "print(decoded_string)"
   ]
  },
  {
   "cell_type": "markdown",
   "metadata": {},
   "source": [
    "# ASCII2binary"
   ]
  },
  {
   "cell_type": "code",
   "execution_count": 24,
   "metadata": {},
   "outputs": [
    {
     "name": "stdout",
     "output_type": "stream",
     "text": [
      "hex_strings b'7375626D6172696E65'\n",
      "01110011 01110101 01100010 01101101 01100001 01110010 01101001 01101110 01100101 \n"
     ]
    }
   ],
   "source": [
    "ascii_string = bytes(b'submarine')\n",
    "hex_strings = base64.b16encode(ascii_string)\n",
    "hex_strings = str(hex_strings)\n",
    "print('hex_strings', hex_strings)\n",
    "bin_strings = ''\n",
    "for i, hex_ in enumerate(hex_strings[2:-1]):\n",
    "    binary = format((int(hex_, 16)), 'b').zfill(4)\n",
    "    bin_strings += binary\n",
    "    if i%2==1:\n",
    "        bin_strings += ' '\n",
    "        \n",
    "print(bin_strings)"
   ]
  },
  {
   "cell_type": "markdown",
   "metadata": {},
   "source": [
    "# Functions"
   ]
  },
  {
   "cell_type": "code",
   "execution_count": 64,
   "metadata": {},
   "outputs": [],
   "source": [
    "def binary2ascii(binary):\n",
    "    binary_list = binary.split(' ')\n",
    "    hex_string = ''\n",
    "    dec_string = ''\n",
    "    for bite in binary_list:\n",
    "        dec0 = int(bite[0:4], 2) \n",
    "        dec1 = int(bite[4:8], 2)\n",
    "        dec_string += str(dec0)\n",
    "        dec_string += str(dec1)\n",
    "        hex0 = format(dec0, 'x')\n",
    "        hex1 = format(dec1, 'x')\n",
    "        # print(hex0)\n",
    "        hex_string += hex0.upper()\n",
    "        hex_string += hex1.upper()\n",
    "    # print('dec_string', dec_string)\n",
    "    # print('hex_string', hex_string)\n",
    "    encoded_string = hex_string\n",
    "    decoded_string = base64.b16decode(encoded_string)\n",
    "    # print(decoded_string)\n",
    "    return decoded_string"
   ]
  },
  {
   "cell_type": "code",
   "execution_count": 72,
   "metadata": {},
   "outputs": [],
   "source": [
    "def dec2binary(dec_strings):\n",
    "    dec_list = dec_strings.split(' ')\n",
    "    bin_strings = ''\n",
    "    for dec in dec_list:\n",
    "        bin_ = format(int(dec), 'b').zfill(8)\n",
    "        bin_strings += bin_\n",
    "        bin_strings += ' '\n",
    "    # print('bin_strings',bin_strings)\n",
    "    return bin_strings"
   ]
  },
  {
   "cell_type": "code",
   "execution_count": 73,
   "metadata": {},
   "outputs": [],
   "source": [
    "def oct2binary(oct_strings):\n",
    "    oct_list = oct_strings.split(' ')\n",
    "    bin_strings = ''\n",
    "    for oct_ in oct_list:\n",
    "        dec = int(str(oct_), 8)\n",
    "        bin_ = format(int(dec), 'b').zfill(8)\n",
    "        bin_strings += bin_\n",
    "        bin_strings += ' '\n",
    "    # print('bin_strings',bin_strings)\n",
    "    return bin_strings"
   ]
  },
  {
   "cell_type": "code",
   "execution_count": 74,
   "metadata": {},
   "outputs": [],
   "source": [
    "def hex2ascii(hex_string):\n",
    "    decoded_string = base64.b16decode(hex_string.upper())\n",
    "    return decoded_string\n",
    "    "
   ]
  },
  {
   "cell_type": "code",
   "execution_count": 86,
   "metadata": {},
   "outputs": [],
   "source": [
    "def ascii2binary(ascii_string):\n",
    "    hex_strings = base64.b16encode(ascii_string)\n",
    "    hex_strings = str(hex_strings)\n",
    "    # print('hex_strings', hex_strings)\n",
    "    bin_strings = ''\n",
    "    for i, hex_ in enumerate(hex_strings[2:-1]):\n",
    "        binary = format((int(hex_, 16)), 'b').zfill(4)\n",
    "        bin_strings += binary\n",
    "        if i%2==1:\n",
    "            bin_strings += ' '\n",
    "\n",
    "    # print('bin_strngs', bin_strings)\n",
    "    return bin_strings"
   ]
  },
  {
   "cell_type": "code",
   "execution_count": 88,
   "metadata": {},
   "outputs": [
    {
     "data": {
      "text/plain": [
       "b'inoue'"
      ]
     },
     "execution_count": 88,
     "metadata": {},
     "output_type": "execute_result"
    }
   ],
   "source": [
    "binary2ascii('01101001 01101110 01101111 01110101 01100101')"
   ]
  },
  {
   "cell_type": "code",
   "execution_count": 77,
   "metadata": {},
   "outputs": [
    {
     "data": {
      "text/plain": [
       "'10011011 10001101 10100000 '"
      ]
     },
     "execution_count": 77,
     "metadata": {},
     "output_type": "execute_result"
    }
   ],
   "source": [
    "dec2binary('155 141 160')"
   ]
  },
  {
   "cell_type": "code",
   "execution_count": 78,
   "metadata": {},
   "outputs": [
    {
     "data": {
      "text/plain": [
       "'01110011 01101111 01100011 01101011 01100101 01110100 '"
      ]
     },
     "execution_count": 78,
     "metadata": {},
     "output_type": "execute_result"
    }
   ],
   "source": [
    "oct2binary('163 157 143 153 145 164')"
   ]
  },
  {
   "cell_type": "code",
   "execution_count": 87,
   "metadata": {},
   "outputs": [
    {
     "data": {
      "text/plain": [
       "'01101001 01101110 01101111 01110101 01100101 '"
      ]
     },
     "execution_count": 87,
     "metadata": {},
     "output_type": "execute_result"
    }
   ],
   "source": [
    "ascii2binary(bytes(b'inoue'))"
   ]
  },
  {
   "cell_type": "code",
   "execution_count": 63,
   "metadata": {},
   "outputs": [
    {
     "data": {
      "text/plain": [
       "b'map'"
      ]
     },
     "execution_count": 63,
     "metadata": {},
     "output_type": "execute_result"
    }
   ],
   "source": [
    "hex2ascii('6d6170')"
   ]
  }
 ],
 "metadata": {
  "kernelspec": {
   "display_name": "Python 3",
   "language": "python",
   "name": "python3"
  },
  "language_info": {
   "codemirror_mode": {
    "name": "ipython",
    "version": 3
   },
   "file_extension": ".py",
   "mimetype": "text/x-python",
   "name": "python",
   "nbconvert_exporter": "python",
   "pygments_lexer": "ipython3",
   "version": "3.7.2"
  }
 },
 "nbformat": 4,
 "nbformat_minor": 2
}
